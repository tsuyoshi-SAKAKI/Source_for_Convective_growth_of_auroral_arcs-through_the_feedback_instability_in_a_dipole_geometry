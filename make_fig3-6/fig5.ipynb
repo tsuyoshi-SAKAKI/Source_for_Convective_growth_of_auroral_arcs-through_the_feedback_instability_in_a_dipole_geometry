{
 "cells": [
  {
   "cell_type": "code",
   "execution_count": null,
   "id": "4a7db073",
   "metadata": {},
   "outputs": [],
   "source": [
    "import numpy as np\n",
    "from scipy import signal, fft\n",
    "import matplotlib.pyplot as plt\n",
    "import matplotlib.colors as colors"
   ]
  },
  {
   "cell_type": "code",
   "execution_count": null,
   "id": "b5011c52",
   "metadata": {},
   "outputs": [],
   "source": [
    "fig_set = {\n",
    "    \"axes.linewidth\": .5,\n",
    "    \"axes.labelsize\": 10,\n",
    "    \"axes.labelpad\": 4.0,\n",
    "    \"xtick.labelsize\": 10,\n",
    "    \"ytick.labelsize\": 10,\n",
    "    \"xtick.major.size\": 4,\n",
    "    \"ytick.major.size\": 4,\n",
    "    \"xtick.minor.size\": 2,\n",
    "    \"xtick.minor.width\" : 0.5,\n",
    "    \"ytick.minor.size\": 3,\n",
    "    \"ytick.minor.width\" : 0.5,\n",
    "    \"xtick.minor.visible\" : True,\n",
    "    \"ytick.minor.visible\" : True,\n",
    "    \"font.size\": 10,\n",
    "    \"xtick.direction\": 'out', \n",
    "    \"ytick.direction\": 'out' \n",
    "}\n",
    "\n",
    "plt.rcParams.update(fig_set)"
   ]
  },
  {
   "cell_type": "code",
   "execution_count": null,
   "id": "abeb6c99",
   "metadata": {},
   "outputs": [],
   "source": [
    "data = np.loadtxt(\"../lin_dipole/data/Fld/rmhdfs_r0.1.slab_linear.run07D4_j-phi.g0000.idn.001\")"
   ]
  },
  {
   "cell_type": "code",
   "execution_count": null,
   "id": "6c919057",
   "metadata": {},
   "outputs": [],
   "source": [
    "### Reshape data -> x, dns ###\n",
    "dt  = 1.0\n",
    "nnx = 1280\n",
    "nx  = 1 + 2*nnx\n",
    "nt  = int(data.shape[0]/nx)\n",
    "x   = data[0:nx,0]\n",
    "xx  = 90-np.arcsin(np.sqrt(x))*180/np.pi\n",
    "t   = dt * np.arange(nt)\n",
    "dns = (data[:,1]+1j*data[:,2]).reshape(nt,nx)\n",
    "dx  = x[1]-x[0]"
   ]
  },
  {
   "cell_type": "code",
   "execution_count": null,
   "id": "bda2535a",
   "metadata": {},
   "outputs": [],
   "source": [
    "dns_tk = fft.fft(dns, axis=-1) / nx \n",
    "kx=fft.fftfreq(nx, dx/(2.0*np.pi))\n",
    "\n",
    "twindow=800.0\n",
    "dt=t[1]-t[0] \n",
    "nwindow = int(twindow/dt)\n",
    "freq,time,dns_wxt = signal.stft(dns_tk[:,:], fs=1.0/dt, window=signal.get_window(('hann'),nwindow),\n",
    "                                    nperseg=nwindow, noverlap=nwindow/2, return_onesided=False, boundary=None, axis=0) \n",
    "\n",
    "omega = -2*np.pi*freq \n",
    "kx_shift = fft.fftshift(kx)\n",
    "omega_shift = fft.fftshift(omega)\n",
    "dns_wxt_shift = fft.fftshift(dns_wxt, axes=(0,1))"
   ]
  },
  {
   "cell_type": "code",
   "execution_count": null,
   "id": "1840ba31",
   "metadata": {},
   "outputs": [],
   "source": [
    "x=data[0:nx,0]\n",
    "xc = np.arcsin(np.sqrt(x))*180/np.pi\n",
    "xx = 90 - xc\n",
    "\n",
    "whann=signal.get_window((\"hann\"),800)\n",
    "wdns = whann.reshape(len(whann),1)*dns[0:len(whann)]\n",
    "xx0 = np.sum(xx.reshape(1,len(xx))*np.abs(wdns)**2)/np.sum(np.abs(wdns)**2)\n",
    "theta0 = (90-xx0)*np.pi/180\n",
    "h1_1 = 1/np.sin(theta0)/np.sqrt(1+3*(np.cos(theta0))**2)"
   ]
  },
  {
   "cell_type": "code",
   "execution_count": null,
   "id": "6f355f79",
   "metadata": {},
   "outputs": [],
   "source": [
    "whann=signal.get_window((\"hann\"),800)\n",
    "t1=400\n",
    "t2=1200\n",
    "wdns = whann.reshape(len(whann),1)*dns[t1:t2]\n",
    "xx0 = np.sum(xx.reshape(1,len(xx))*np.abs(wdns)**2)/np.sum(np.abs(wdns)**2)\n",
    "theta0 = (90-xx0)*np.pi/180\n",
    "h1_2 = 1/np.sin(theta0)/np.sqrt(1+3*(np.cos(theta0))**2)"
   ]
  },
  {
   "cell_type": "code",
   "execution_count": null,
   "id": "1016f66b",
   "metadata": {},
   "outputs": [],
   "source": [
    "whann=signal.get_window((\"hann\"),800)\n",
    "t1=800\n",
    "t2=1600\n",
    "wdns = whann.reshape(len(whann),1)*dns[t1:t2]\n",
    "xx0 = np.sum(xx.reshape(1,len(xx))*np.abs(wdns)**2)/np.sum(np.abs(wdns)**2)\n",
    "theta0 = (90-xx0)*np.pi/180\n",
    "h1_3 = 1/np.sin(theta0)/np.sqrt(1+3*(np.cos(theta0))**2)"
   ]
  },
  {
   "cell_type": "code",
   "execution_count": null,
   "id": "1ad3fe8b",
   "metadata": {},
   "outputs": [],
   "source": [
    "ni = 499\n",
    "ds981 = np.loadtxt(\"../lin_dipole/disp_dipole/l981_lat2092.d\")\n",
    "dsk981 = ds981[:ni,2]\n",
    "dsfr981 = ds981[:ni,4]\n",
    "\n",
    "ds916 = np.loadtxt(\"../lin_dipole/disp_dipole/l916_lat2161.d\")\n",
    "dsk916 = ds916[:ni,2]\n",
    "dsfr916 = ds916[:ni,4]\n",
    "\n",
    "ds863 = np.loadtxt(\"../lin_dipole/disp_dipole/l862_lat2223.d\")\n",
    "dsk863 = ds863[:ni,2]\n",
    "dsfr863 = ds863[:ni,4]"
   ]
  },
  {
   "cell_type": "code",
   "execution_count": null,
   "id": "034d7d25",
   "metadata": {},
   "outputs": [],
   "source": [
    "dpi = 250\n",
    "fig, ax= plt.subplots(figsize=(6,3), dpi=dpi)\n",
    "quad = ax.pcolormesh(kx_shift/ h1_1,omega_shift,abs(dns_wxt_shift[:,:,0]), shading=\"nearest\" ,cmap=\"gnuplot\") # ,cmap=\"jet\")\n",
    "cbar = fig.colorbar(quad, shrink=1.0, aspect=10.0)\n",
    "cbar.set_label(\"$|n_{\\Omega,\\,k'_{\\\\xi^1}}|$\")\n",
    "ax.plot(dsk981,dsfr981 , linestyle=\"dashed\", color= \"white\" ,linewidth=.8)\n",
    "ax.set_ylabel(\"$\\mathrm{Re}[\\Omega]\\,\\,(v_{\\mathrm{A}0}/R_\\mathrm{I})$\")\n",
    "ax.set_ylim(0.1,0.35)\n",
    "ax.set_xlim(200,2500)\n",
    "ax.text(5, 0.37, \"a\", fontfamily=\"sans-serif\", fontweight=\"bold\", fontsize=12)\n",
    "plt.savefig(\"../fig3-6/fig_sub/fft1.png\", bbox_inches='tight')\n",
    "plt.show()\n",
    "\n",
    "\n",
    "fig, ax= plt.subplots(figsize=(6,3), dpi=dpi)\n",
    "quad = ax.pcolormesh(kx_shift/h1_2,omega_shift,abs(dns_wxt_shift[:,:,1]), shading=\"nearest\" ,cmap=\"gnuplot\")\n",
    "cbar = fig.colorbar(quad, shrink=1.0, aspect=10.0)\n",
    "cbar.set_label(\"$|n_{\\Omega,\\,k'_{\\\\xi^1}}|$\")\n",
    "ax.plot(dsk916,dsfr916 , linestyle=\"dashed\", color= \"white\" ,linewidth=.8)\n",
    "ax.set_ylabel(\"$\\mathrm{Re}[\\Omega]\\,\\,(v_{\\mathrm{A}0}/R_\\mathrm{I})$\")\n",
    "ax.set_ylim(0.1,0.35)\n",
    "ax.set_xlim(200,2500)\n",
    "ax.text(5, 0.37, \"b\", fontfamily=\"sans-serif\", fontweight=\"bold\", fontsize=12)\n",
    "plt.savefig(\"../fig3-6/fig_sub/fft2.png\", bbox_inches='tight')\n",
    "plt.show()\n",
    "\n",
    "fig, ax= plt.subplots(figsize=(6,3), dpi=dpi)\n",
    "quad = ax.pcolormesh(kx_shift/h1_3,omega_shift,abs(dns_wxt_shift[:,:,2]), shading=\"nearest\",cmap=\"gnuplot\") \n",
    "cbar = fig.colorbar(quad, shrink=1.0, aspect=10.0, format=\"%0.2f\")\n",
    "cbar.set_label(\"$|n_{\\Omega,\\,k'_{\\\\xi^1}}|$\")\n",
    "ax.plot(dsk863,dsfr863 , linestyle=\"dashed\", color= \"white\",linewidth=.8)\n",
    "ax.set_xlabel(\"$k'_{\\\\xi^1}$\")\n",
    "ax.set_ylabel(\"$\\mathrm{Re}[\\Omega]\\,\\,(v_{\\mathrm{A}0}/R_\\mathrm{I})$\")\n",
    "ax.set_ylim(0.1,0.35)\n",
    "ax.set_xlim(200,2500)\n",
    "ax.text(5, 0.37, \"c\", fontfamily=\"sans-serif\", fontweight=\"bold\", fontsize=12)\n",
    "plt.savefig(\"../fig3-6/fig_sub/fft3.png\", bbox_inches='tight')\n",
    "plt.show()"
   ]
  },
  {
   "cell_type": "code",
   "execution_count": null,
   "id": "3d887052",
   "metadata": {},
   "outputs": [],
   "source": [
    "import cv2\n",
    "\n",
    "im1 = cv2.imread('../fig3-6/fig_sub/fft1.png')\n",
    "im2 = cv2.imread('../fig3-6/fig_sub/fft2.png')\n",
    "im3 = cv2.imread('../fig3-6/fig_sub/fft3.png')\n",
    "im_v = cv2.vconcat([im1, im2])\n",
    "cv2.imwrite('../fig3-6/fig_sub/fft12.png', im_v)\n",
    "\n",
    "\n",
    "im12 = cv2.imread('../fig3-6/fig_sub/fft12.png')\n",
    "im_v2 = cv2.vconcat([im12, im3])\n",
    "cv2.imwrite('../fig3-6/fig5.png', im_v2)"
   ]
  }
 ],
 "metadata": {
  "kernelspec": {
   "display_name": "Python 3 (ipykernel)",
   "language": "python",
   "name": "python3"
  },
  "language_info": {
   "codemirror_mode": {
    "name": "ipython",
    "version": 3
   },
   "file_extension": ".py",
   "mimetype": "text/x-python",
   "name": "python",
   "nbconvert_exporter": "python",
   "pygments_lexer": "ipython3",
   "version": "3.10.8"
  }
 },
 "nbformat": 4,
 "nbformat_minor": 5
}
