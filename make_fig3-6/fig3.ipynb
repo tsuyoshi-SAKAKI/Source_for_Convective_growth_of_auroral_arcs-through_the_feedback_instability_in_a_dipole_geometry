{
 "cells": [
  {
   "cell_type": "code",
   "execution_count": null,
   "metadata": {},
   "outputs": [],
   "source": [
    "import cv2\n",
    "\n",
    "im1 = cv2.imread('../fig3-6/fig_sub/fig3a.png')\n",
    "im2 = cv2.imread('../fig3-6/fig_sub/fig3b.png')\n",
    "def vconcat_resize_min(im_list, interpolation=cv2.INTER_CUBIC):\n",
    "    w_min = min(im.shape[1] for im in im_list)\n",
    "    im_list_resize = [cv2.resize(im, (w_min, int(im.shape[0] * w_min / im.shape[1])), interpolation=interpolation)\n",
    "                      for im in im_list]\n",
    "    return cv2.vconcat(im_list_resize)\n",
    "\n",
    "im_v_resize = vconcat_resize_min([im1, im2])\n",
    "cv2.imwrite('../fig3-6/fig3.png', im_v_resize)"
   ]
  }
 ],
 "metadata": {
  "kernelspec": {
   "display_name": "Python 3 (ipykernel)",
   "language": "python",
   "name": "python3"
  },
  "language_info": {
   "codemirror_mode": {
    "name": "ipython",
    "version": 3
   },
   "file_extension": ".py",
   "mimetype": "text/x-python",
   "name": "python",
   "nbconvert_exporter": "python",
   "pygments_lexer": "ipython3",
   "version": "3.10.8"
  }
 },
 "nbformat": 4,
 "nbformat_minor": 4
}
