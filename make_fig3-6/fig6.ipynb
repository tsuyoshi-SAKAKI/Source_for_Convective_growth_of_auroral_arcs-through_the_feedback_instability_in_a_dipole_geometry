{
 "cells": [
  {
   "cell_type": "code",
   "execution_count": null,
   "id": "623ba40a",
   "metadata": {},
   "outputs": [],
   "source": [
    "import numpy as np\n",
    "import matplotlib.pyplot as plt\n",
    "import matplotlib.ticker"
   ]
  },
  {
   "cell_type": "code",
   "execution_count": null,
   "id": "3cb5db0a",
   "metadata": {},
   "outputs": [],
   "source": [
    "fig_set = {\n",
    "    \"axes.linewidth\": .5,\n",
    "    \"axes.labelsize\": 10,\n",
    "    \"axes.labelpad\": 4.0,\n",
    "    \"xtick.labelsize\": 8,\n",
    "    \"ytick.labelsize\": 8,\n",
    "    \"xtick.major.size\": 4,\n",
    "    \"ytick.major.size\": 4,\n",
    "    \"xtick.minor.size\": 2,\n",
    "    \"xtick.minor.width\" : 0.5,\n",
    "    \"ytick.minor.size\": 3,\n",
    "    \"ytick.minor.width\" : 0.5,\n",
    "    \"xtick.minor.visible\" : True,\n",
    "    \"ytick.minor.visible\" : True,\n",
    "    \"xtick.top\" : True,\n",
    "    \"ytick.right\" : True,\n",
    "    \"font.size\": 10,\n",
    "    \"font.family\": 'sans-serif',\n",
    "    \"legend.frameon\" : False,\n",
    "    \"xtick.direction\": 'in', \n",
    "    \"ytick.direction\": 'in'  \n",
    "}\n",
    "plt.rcParams.update(fig_set)"
   ]
  },
  {
   "cell_type": "code",
   "execution_count": null,
   "id": "e97b6c73",
   "metadata": {},
   "outputs": [],
   "source": [
    "dipole = np.loadtxt(\"../lin_dipole/data/Hst/rmhdfs_r0.1.slab_linear.run07D4_j-phi.idn.001\")\n",
    "nonuni = np.loadtxt(\"../lin_slab/nonuniform/data/rmhdfs_r0.1.slab_linear.run07D4_j-phi.idn.001\")\n",
    "lconst = np.loadtxt(\"../lin_slab/lconst/data/rmhdfs_r0.1.slab_linear.run07D4_j-phi.idn.001\")"
   ]
  },
  {
   "cell_type": "code",
   "execution_count": null,
   "id": "c1942998",
   "metadata": {},
   "outputs": [],
   "source": [
    "t = dipole[:,0]\n",
    "dipole_ini  = np.sqrt( dipole[0,1] )\n",
    "nonuni_ini  = np.sqrt( nonuni[0,1] )\n",
    "lconst_ini  = np.sqrt( lconst[0,1] )"
   ]
  },
  {
   "cell_type": "code",
   "execution_count": null,
   "id": "5e52e23a",
   "metadata": {},
   "outputs": [],
   "source": [
    "dpi = 250\n",
    "fig, ax= plt.subplots(figsize=(6,4), dpi=dpi)\n",
    "plt.yscale(\"log\")\n",
    "plt.plot(t , np.sqrt(lconst[:,1]) / lconst_ini, label=\"Uniform\")\n",
    "plt.plot(t , np.sqrt(nonuni[:,1]) / nonuni_ini, linestyle=\"dotted\" , label=\"Nonuniform\")\n",
    "plt.plot(t , np.sqrt(dipole[:,1]) / dipole_ini, linestyle=\"dashed\" , label=\"Dipole\")\n",
    "plt.xlabel(\"Time $(R_\\mathrm{I}/v_{\\mathrm{A}0})$\")\n",
    "plt.ylabel(\"Number density ($n/n_\\mathrm{init}$)\")\n",
    "plt.xlim(0,1650)\n",
    "plt.legend()\n",
    "plt.savefig(\"../fig3-6/fig6.png\", bbox_inches='tight', pad_inches=0.1)\n",
    "plt.show()"
   ]
  }
 ],
 "metadata": {
  "kernelspec": {
   "display_name": "Python 3 (ipykernel)",
   "language": "python",
   "name": "python3"
  },
  "language_info": {
   "codemirror_mode": {
    "name": "ipython",
    "version": 3
   },
   "file_extension": ".py",
   "mimetype": "text/x-python",
   "name": "python",
   "nbconvert_exporter": "python",
   "pygments_lexer": "ipython3",
   "version": "3.10.8"
  }
 },
 "nbformat": 4,
 "nbformat_minor": 5
}
