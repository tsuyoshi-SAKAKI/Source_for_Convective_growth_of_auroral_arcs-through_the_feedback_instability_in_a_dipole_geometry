{
 "cells": [
  {
   "cell_type": "code",
   "execution_count": null,
   "id": "73ed1857",
   "metadata": {},
   "outputs": [],
   "source": [
    "import numpy as np\n",
    "import matplotlib.pyplot as plt\n",
    "\n",
    "fig_set = {\n",
    "    \"axes.linewidth\": .5,\n",
    "    \"axes.labelsize\": 10,\n",
    "    \"axes.labelpad\": 4.0,\n",
    "    \"xtick.labelsize\": 8,\n",
    "    \"ytick.labelsize\": 8,\n",
    "    \"xtick.major.size\": 3,\n",
    "    \"ytick.major.size\": 3,\n",
    "    \"ytick.right\" : True,\n",
    "    \"xtick.minor.visible\" : False,\n",
    "    \"ytick.minor.visible\" : True,\n",
    "    \"font.size\": 10,\n",
    "    \"font.family\": 'sans-serif',\n",
    "    \"legend.framealpha\": .5,\n",
    "    \"legend.frameon\" : False,\n",
    "    \"xtick.direction\": 'in', \n",
    "    \"ytick.direction\": 'in'\n",
    "}\n",
    "\n",
    "plt.rcParams.update(fig_set)"
   ]
  },
  {
   "cell_type": "code",
   "execution_count": null,
   "id": "56137a08",
   "metadata": {},
   "outputs": [],
   "source": [
    "data = np.loadtxt(\"../lin_dipole/data/Fld/rmhdfs_r0.1.slab_linear.run07D4_j-phi.g0000.idn.001\")"
   ]
  },
  {
   "cell_type": "code",
   "execution_count": null,
   "id": "f7ca4fe7",
   "metadata": {},
   "outputs": [],
   "source": [
    "dt=1.0\n",
    "nx=1280*2+1\n",
    "nt=int(data.shape[0]/nx)\n",
    "x=data[0:nx,0]\n",
    "xx = 90-np.arcsin(np.sqrt(x))*180/np.pi\n",
    "xc = np.arcsin(np.sqrt(x))*180/np.pi\n",
    "t=dt * np.arange(nt)\n",
    "dns=(data[:,1]+1j*data[:,2]).reshape(nt,nx)\n",
    "\n",
    "dns0 =  (np.abs( dns[0,:].real ) ).max()\n",
    "dns = dns.real/dns0 "
   ]
  },
  {
   "cell_type": "code",
   "execution_count": null,
   "id": "0d506e3b",
   "metadata": {},
   "outputs": [],
   "source": [
    "dpi = 300\n",
    "fig, ax= plt.subplots(figsize=(5,2), dpi=dpi)\n",
    "ax.set_xlim(19, xc.max())\n",
    "ax.set_ylabel(\"Number density\\n($B_\\mathrm{ref}/eh_\\mathrm{I}\\mu_0v_{\\mathrm{A}0}$)\")\n",
    "ax.set_xlabel(r\"Colatitude $\\theta$\") \n",
    "ax.plot(xc,dns[0,:].real,linewidth=1 , label=\"$\\mathrm{Time}=0~R_\\mathrm{I}/v_{\\mathrm{A}0}$\")\n",
    "ax.plot(xc,dns[1000,:].real,linewidth=1, label=\"$\\mathrm{Time}=1000~R_\\mathrm{I}/v_{\\mathrm{A}0}$\", linestyle=\"dashed\")\n",
    "ax.plot(xc,dns[1500,:].real,linewidth=1 , label=\"$\\mathrm{Time}=1500~R_\\mathrm{I}/v_{\\mathrm{A}0}$\", linestyle=\"dotted\" )\n",
    "plt.legend(fontsize=8)\n",
    "ax.text(18.2, 23, \"b\", fontfamily=\"sans-serif\", fontweight=\"bold\", fontsize=12)\n",
    "plt.savefig(\"../fig3-6/fig_sub/fig3b.png\", bbox_inches='tight', pad_inches=0.1)\n",
    "plt.show()"
   ]
  }
 ],
 "metadata": {
  "kernelspec": {
   "display_name": "Python 3 (ipykernel)",
   "language": "python",
   "name": "python3"
  },
  "language_info": {
   "codemirror_mode": {
    "name": "ipython",
    "version": 3
   },
   "file_extension": ".py",
   "mimetype": "text/x-python",
   "name": "python",
   "nbconvert_exporter": "python",
   "pygments_lexer": "ipython3",
   "version": "3.10.8"
  }
 },
 "nbformat": 4,
 "nbformat_minor": 5
}
